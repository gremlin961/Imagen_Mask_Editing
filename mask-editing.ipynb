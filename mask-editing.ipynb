{
 "cells": [
  {
   "cell_type": "markdown",
   "id": "8a331300-5ff3-4219-83c0-ce11703cc9e1",
   "metadata": {},
   "source": [
    "# How To Use Vertex Text-to-Image Generative AI To Perform Mask Based Outpainting"
   ]
  },
  {
   "cell_type": "markdown",
   "id": "34429b82-078c-4107-827d-8aaed4ab1121",
   "metadata": {},
   "source": [
    "This notebook outlines how to interact with Vertex AI's Text-to-Image GenAI models to create dynamic content using Outpainting. With Imagen on Vertex AI, developers can utilize next-generation AI products to transform their imagination into high quality visual assets, in seconds. With just some simple lines of Python, we can merge these assets with existing content to provide a new level of visual website content."
   ]
  },
  {
   "cell_type": "markdown",
   "id": "69ed54ec-9f36-40af-8d2e-c6fd32a76222",
   "metadata": {},
   "source": [
    "## Prepare the python development environment"
   ]
  },
  {
   "cell_type": "markdown",
   "id": "906ce888-8c52-476b-96d0-7f65cb259f8d",
   "metadata": {},
   "source": [
    "First, let's identify any project specific variables to customize this notebook to your GCP environment. Change YOUR_PROJECT_ID with your own GCP project ID."
   ]
  },
  {
   "cell_type": "code",
   "execution_count": null,
   "id": "205088b5-6d5b-46dd-9d77-a8352eac630b",
   "metadata": {
    "tags": []
   },
   "outputs": [],
   "source": [
    "PROJECT_ID = \"rkiles-demo-host-vpc\""
   ]
  },
  {
   "cell_type": "markdown",
   "id": "fe92738a-045b-48a4-ab0e-1d98fad2089a",
   "metadata": {},
   "source": [
    "Install any needed python modules from our requirements.txt file. Most Vertex Workbench environments include all the packages we'll be using, but if you are using an external Jupyter Notebook or require any additional packages for your own needs, you can simply add them to the included requirements.txt file an run the folloiwng commands."
   ]
  },
  {
   "cell_type": "code",
   "execution_count": null,
   "id": "f69175b8-63c4-4b5a-837d-055743c0b8d1",
   "metadata": {},
   "outputs": [],
   "source": [
    "#pip install -r requirements.txt"
   ]
  },
  {
   "cell_type": "markdown",
   "id": "444b2ce7-0277-4ada-9648-34c67774bfd2",
   "metadata": {},
   "source": [
    "Now we will import all required modules. For our purpose, we will be utilizing the following:\n",
    "\n",
    "- google.auth - Provides authentication access to the Google API's, such as imagegeneration:predict\n",
    "- PIL - An easy to use Python image library to help build the background for our banner and perform image layering\n",
    "- io - Core python libray used to work with I/O. We will use this to help convert strings to byte objects for PIL\n",
    "- base64 - Imagen API requests return generated or edited images as base64-encoded strings. This module will help us decode this data to an image file\n",
    "- requests - This module will allow us to interact directly with Imagen over the REST API. \n",
    "- json - Python module used to interact with JSON data. Imagen returns results in json format."
   ]
  },
  {
   "cell_type": "code",
   "execution_count": null,
   "id": "b8e15897-0cb0-4173-9b91-17270a10b989",
   "metadata": {
    "tags": []
   },
   "outputs": [],
   "source": [
    "import google.auth.transport.requests\n",
    "import google.auth\n",
    "from PIL import Image\n",
    "from io import BytesIO\n",
    "import base64\n",
    "import requests\n",
    "import json"
   ]
  },
  {
   "cell_type": "markdown",
   "id": "4a2b2668-962a-42da-b92b-4932f224bb0d",
   "metadata": {},
   "source": [
    "## Authenticate to the Vertex AI API"
   ]
  },
  {
   "cell_type": "markdown",
   "id": "ef57a2c4-d51a-42b8-b0c7-24aced49d64b",
   "metadata": {},
   "source": [
    "Our Vertex Workbench instance is configured to use a specified service account that has IAM access to the text-to-vision API. The following two secitons will allow us to generate the access token we will pass as an authorization bearer token later in the header."
   ]
  },
  {
   "cell_type": "code",
   "execution_count": null,
   "id": "997bec4d-c8d6-4f90-9726-3e574ab061d5",
   "metadata": {},
   "outputs": [],
   "source": [
    "credentials, project_id = google.auth.default()\n",
    "auth_req = google.auth.transport.requests.Request()\n",
    "credentials.refresh(auth_req)"
   ]
  },
  {
   "cell_type": "code",
   "execution_count": null,
   "id": "ea5d12eb-fd5c-4c70-b278-6a199985f3f9",
   "metadata": {},
   "outputs": [],
   "source": [
    "access_token = credentials.token"
   ]
  },
  {
   "cell_type": "markdown",
   "id": "ae3fb974-e836-40c5-81e3-c83f63bc84e0",
   "metadata": {},
   "source": [
    "## Prepare the HTTP POST request to the REST API"
   ]
  },
  {
   "cell_type": "markdown",
   "id": "b93462b3-7ee7-4f6f-a141-0d54ce304669",
   "metadata": {},
   "source": [
    "Define the header fields, including the access token we created in the last step"
   ]
  },
  {
   "cell_type": "code",
   "execution_count": null,
   "id": "a32a6c60-9040-4f58-9d25-383e25b86360",
   "metadata": {},
   "outputs": [],
   "source": [
    "headers = {\n",
    "        'Authorization': 'Bearer ' + access_token,\n",
    "        'Content-Type': 'application/json; charset=utf-8'\n",
    "    }"
   ]
  },
  {
   "cell_type": "markdown",
   "id": "e00a60a7-400c-4c54-989b-6e5a9b931711",
   "metadata": {},
   "source": [
    "You can uncomment the following line for troubleshooting if you want to see how the header will be passed to the API."
   ]
  },
  {
   "cell_type": "code",
   "execution_count": null,
   "id": "8e4842b3-abb5-4941-b501-a78bd6341306",
   "metadata": {
    "tags": []
   },
   "outputs": [],
   "source": [
    "#print(headers)"
   ]
  },
  {
   "cell_type": "markdown",
   "id": "5192001a-47ec-4a6b-a93e-f91ce2e1dd79",
   "metadata": {},
   "source": [
    "Next we will specifiy the URL for the Imagen REST API. You should have already specified the correct project ID in the very first step of this notebook."
   ]
  },
  {
   "cell_type": "code",
   "execution_count": null,
   "id": "9cfea6f4-3cbd-413c-9996-3edd9ee944e7",
   "metadata": {
    "tags": []
   },
   "outputs": [],
   "source": [
    "url = f'https://us-central1-aiplatform.googleapis.com/v1/projects/{PROJECT_ID}/locations/us-central1/publishers/google/models/imagegeneration@006:predict'"
   ]
  },
  {
   "cell_type": "markdown",
   "id": "312d82f2-ab09-4da5-ac82-6b659c765051",
   "metadata": {},
   "source": [
    "To use Imagen on Vertex AI you must provide a text description of what you want to generate or edit. These descriptions are called prompts, and these prompts are the primary way you communicate with Generative AI. Here, we are specifiying what we want the model to create using a prompt. Play around with this content and see what kind of images you can create. More information can be found here https://cloud.google.com/vertex-ai/docs/generative-ai/image/img-gen-prompt-guide"
   ]
  },
  {
   "cell_type": "code",
   "execution_count": null,
   "id": "f9f16782-6804-4ea6-b44b-00ea66c05710",
   "metadata": {},
   "outputs": [],
   "source": [
    "imagen_prompt = \"Photo of a beautiful house with a large front lawn with leaves on the ground\""
   ]
  },
  {
   "cell_type": "markdown",
   "id": "392305e2-b4b5-4442-aa1d-96427e29d53c",
   "metadata": {},
   "source": [
    "Specify the image and mask you want to use for outpainting. For this example, start with the mower_zoom-in.jpg and mask_mower_zoom-in.jpg files. Once you view the result, try it again with the zoom-out files to see how outpainting uses the mask and input images to determine the overall aspect of the final image."
   ]
  },
  {
   "cell_type": "code",
   "execution_count": null,
   "id": "1cbba547-0472-4ff8-a2c8-b268e327e131",
   "metadata": {},
   "outputs": [],
   "source": [
    "with open(\"mower_zoom-in.jpg\", \"rb\") as f:\n",
    "    encoded_base_image = base64.b64encode(f.read())\n",
    "B64_BASE_IMAGE = encoded_base_image.decode('utf-8')\n",
    "\n",
    "with open(\"mask_mower_zoom-in.jpg\", \"rb\") as f2:\n",
    "    encoded_mask_image = base64.b64encode(f2.read())\n",
    "B64_MASK_IMAGE = encoded_mask_image.decode('utf-8')\n"
   ]
  },
  {
   "cell_type": "code",
   "execution_count": null,
   "id": "3f530db2-6b79-4e84-a17f-5eee0ca8f825",
   "metadata": {},
   "outputs": [],
   "source": [
    "#print(B64_BASE_IMAGE)"
   ]
  },
  {
   "cell_type": "markdown",
   "id": "a1980e70-eef9-49e7-a66e-e4c1bff5cd66",
   "metadata": {},
   "source": [
    "The REST API expects a json payload containing the data that will be used to generate the image. We are only passing a few of the available request options below, but you can find more information about the REST API and additional featuers here https://cloud.google.com/vertex-ai/docs/generative-ai/image/edit-images\n",
    "\n",
    "In this example, we are providing the prompt information from the last step and specifiying two image samples to be returned. You can also use "
   ]
  },
  {
   "cell_type": "code",
   "execution_count": null,
   "id": "95438ea9-3c19-4df0-ab9c-207dfae341f1",
   "metadata": {},
   "outputs": [],
   "source": [
    "request_body = '{\"instances\": [{\"prompt\": \"' + imagen_prompt + '\",\"image\": {\"bytesBase64Encoded\": \"' + B64_BASE_IMAGE + '\"},\"mask\": {\"image\": {\"bytesBase64Encoded\": \"' + B64_MASK_IMAGE + '\"}}}],\"parameters\": {\"sampleCount\": 2, \"mode\":\"backgroundEditing\"}}'"
   ]
  },
  {
   "cell_type": "markdown",
   "id": "385089ed-acdb-4c55-8885-4d9400dc85ae",
   "metadata": {},
   "source": [
    "You can alternatively try Product Image Editing by uncommenting the line below. More information about Product image editing can be found here https://cloud.google.com/vertex-ai/docs/generative-ai/image/edit-images#gps-product-background"
   ]
  },
  {
   "cell_type": "code",
   "execution_count": null,
   "id": "e4152412-a31b-4fa2-aa0a-280f5115c782",
   "metadata": {},
   "outputs": [],
   "source": [
    "#request_body = '{\"instances\": [{\"prompt\": \"' + imagen_prompt + '\",\"image\": {\"bytesBase64Encoded\": \"' + B64_BASE_IMAGE + '\"}}],\"parameters\": {\"IsProductImage\": \"True\"}}'"
   ]
  },
  {
   "cell_type": "markdown",
   "id": "2227aa1f-cfe3-42d7-8ffd-713934aef13b",
   "metadata": {},
   "source": [
    "Lastly, we will post the request to the Imagen REST API and wait for the requested image to be generated and returned"
   ]
  },
  {
   "cell_type": "code",
   "execution_count": null,
   "id": "d561c8ec-cfbe-40c8-8fd1-b516d03ed545",
   "metadata": {},
   "outputs": [],
   "source": [
    "r = requests.post(url, data=request_body, headers=headers)"
   ]
  },
  {
   "cell_type": "markdown",
   "id": "63c44c6c-adcd-4418-b805-8be482304e1e",
   "metadata": {},
   "source": [
    "You can optionally uncomment the following to view the returned status code for verification or troubleshooting"
   ]
  },
  {
   "cell_type": "code",
   "execution_count": null,
   "id": "01cfcca9-20e4-477d-adfa-3cc66fc3c6ca",
   "metadata": {
    "tags": []
   },
   "outputs": [],
   "source": [
    "print(r.status_code)\n",
    "#print(r.content)"
   ]
  },
  {
   "cell_type": "markdown",
   "id": "4cea8b0f-41dc-457e-a23b-81e98abe6c5c",
   "metadata": {},
   "source": [
    "## Process the returned request and decode the image"
   ]
  },
  {
   "cell_type": "markdown",
   "id": "bd9f2887-4e6a-444f-91d2-355b0ac47422",
   "metadata": {},
   "source": [
    "The Imagen API returns images in a base64 encoded JSON string. We will start by defining our data and then decoding the image."
   ]
  },
  {
   "cell_type": "code",
   "execution_count": null,
   "id": "79f8359a-fcc6-4952-9f4d-e35c356a4629",
   "metadata": {},
   "outputs": [],
   "source": [
    "img_data = r.json()"
   ]
  },
  {
   "cell_type": "markdown",
   "id": "7d0f1523-4299-4bfb-9421-1bc9c4a91e43",
   "metadata": {},
   "source": [
    "You can optionally uncomment this line to see the full JSON payload returned by the API."
   ]
  },
  {
   "cell_type": "code",
   "execution_count": null,
   "id": "33fc4511-f812-4c93-a0fb-00bb20691da8",
   "metadata": {},
   "outputs": [],
   "source": [
    "#print(img_data[\"predictions\"][0][\"bytesBase64Encoded\"])"
   ]
  },
  {
   "cell_type": "markdown",
   "id": "d266e0a3-55e2-4999-92b5-27f161d1b059",
   "metadata": {},
   "source": [
    "We will be using just the first returned image sample in this example. The API can return up to 4 sample images, so you could insert a simple for loop here to iterate through multiple images."
   ]
  },
  {
   "cell_type": "code",
   "execution_count": null,
   "id": "3ed3379a-7673-41ed-8ccc-3e08bfa22416",
   "metadata": {
    "tags": []
   },
   "outputs": [],
   "source": [
    "encoded_image = img_data[\"predictions\"][1][\"bytesBase64Encoded\"]"
   ]
  },
  {
   "cell_type": "markdown",
   "id": "05a62b00-3838-474f-bcc9-b0186ecca318",
   "metadata": {},
   "source": [
    "This will decode the base64 string to a usable image"
   ]
  },
  {
   "cell_type": "code",
   "execution_count": null,
   "id": "e9300825-1aa7-4e30-add8-73521743abca",
   "metadata": {
    "tags": []
   },
   "outputs": [],
   "source": [
    "decoded_image = base64.b64decode(encoded_image)"
   ]
  },
  {
   "cell_type": "markdown",
   "id": "9c5fb2de-7f4c-474e-9c97-fae090ae2973",
   "metadata": {},
   "source": [
    "Optionally uncomment this line to save the image to disk"
   ]
  },
  {
   "cell_type": "code",
   "execution_count": null,
   "id": "b4d291d8-ecd7-465e-9b87-643e53e1eb11",
   "metadata": {},
   "outputs": [],
   "source": [
    "#with open(\"b64DecodedImage1.png\", \"wb\") as fh:\n",
    "#    fh.write(decoded_image)"
   ]
  },
  {
   "cell_type": "markdown",
   "id": "f9067ee0-3860-4d7a-8a09-ab0156039678",
   "metadata": {},
   "source": [
    "We will be keeping this image in memory since we will be making further modifications before saving the final image."
   ]
  },
  {
   "cell_type": "code",
   "execution_count": null,
   "id": "2d5bf1e1-6efe-4891-a18a-9892538f7890",
   "metadata": {
    "tags": []
   },
   "outputs": [],
   "source": [
    "byte_stream = BytesIO(decoded_image)"
   ]
  },
  {
   "cell_type": "markdown",
   "id": "fa3cf0a6-1cc6-4bc3-bcef-2ad299d12a1e",
   "metadata": {},
   "source": [
    "Let's view the returned iamge from Imagen"
   ]
  },
  {
   "cell_type": "code",
   "execution_count": null,
   "id": "da95ff86-63b2-485c-aed6-604a51a46408",
   "metadata": {},
   "outputs": [],
   "source": [
    "genImage = Image.open(byte_stream).convert(\"RGBA\")\n",
    "genImage.convert(\"RGB\")"
   ]
  },
  {
   "cell_type": "markdown",
   "id": "779dd31e-e630-4f92-bef6-d88b4ae9765f",
   "metadata": {
    "tags": []
   },
   "source": [
    "You can save the final image by uncommenting the line below."
   ]
  },
  {
   "cell_type": "code",
   "execution_count": null,
   "id": "f26cf889-9931-432d-a571-6e5414bb3d6b",
   "metadata": {},
   "outputs": [],
   "source": [
    "genImage.save(\"result.png\")"
   ]
  },
  {
   "cell_type": "markdown",
   "id": "2c8dfa92-615d-41eb-9451-439e74b04a69",
   "metadata": {},
   "source": [
    "Congratulations, you just created your first outpainted image using Imagen!"
   ]
  }
 ],
 "metadata": {
  "environment": {
   "kernel": "python3",
   "name": "common-cpu.m113",
   "type": "gcloud",
   "uri": "gcr.io/deeplearning-platform-release/base-cpu:m113"
  },
  "kernelspec": {
   "display_name": "Python 3",
   "language": "python",
   "name": "python3"
  },
  "language_info": {
   "codemirror_mode": {
    "name": "ipython",
    "version": 3
   },
   "file_extension": ".py",
   "mimetype": "text/x-python",
   "name": "python",
   "nbconvert_exporter": "python",
   "pygments_lexer": "ipython3",
   "version": "3.10.13"
  }
 },
 "nbformat": 4,
 "nbformat_minor": 5
}
